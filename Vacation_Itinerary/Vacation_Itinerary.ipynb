{
 "cells": [
  {
   "cell_type": "markdown",
   "metadata": {},
   "source": [
    "## Deliverable 3. Create a Travel Itinerary Map."
   ]
  },
  {
   "cell_type": "code",
   "execution_count": 2,
   "metadata": {},
   "outputs": [],
   "source": [
    "# Dependencies and Setup\n",
    "import pandas as pd\n",
    "import requests\n",
    "import gmaps\n",
    "import os\n",
    "\n",
    "# Import API key\n",
    "from dotenv import load_dotenv\n",
    "load_dotenv()\n",
    "google_api_key = os.getenv(\"google_api_key\")\n",
    "\n",
    "# Configure gmaps\n",
    "gmaps.configure(api_key=google_api_key)"
   ]
  },
  {
   "cell_type": "code",
   "execution_count": 3,
   "metadata": {},
   "outputs": [
    {
     "data": {
      "text/html": [
       "<div>\n",
       "<style scoped>\n",
       "    .dataframe tbody tr th:only-of-type {\n",
       "        vertical-align: middle;\n",
       "    }\n",
       "\n",
       "    .dataframe tbody tr th {\n",
       "        vertical-align: top;\n",
       "    }\n",
       "\n",
       "    .dataframe thead th {\n",
       "        text-align: right;\n",
       "    }\n",
       "</style>\n",
       "<table border=\"1\" class=\"dataframe\">\n",
       "  <thead>\n",
       "    <tr style=\"text-align: right;\">\n",
       "      <th></th>\n",
       "      <th>City ID</th>\n",
       "      <th>City</th>\n",
       "      <th>Country</th>\n",
       "      <th>Max Temp</th>\n",
       "      <th>Lat</th>\n",
       "      <th>Lng</th>\n",
       "      <th>Weather</th>\n",
       "      <th>Hotel Name</th>\n",
       "    </tr>\n",
       "  </thead>\n",
       "  <tbody>\n",
       "    <tr>\n",
       "      <th>0</th>\n",
       "      <td>2</td>\n",
       "      <td>Torbay</td>\n",
       "      <td>CA</td>\n",
       "      <td>23.58</td>\n",
       "      <td>47.6666</td>\n",
       "      <td>-52.7314</td>\n",
       "      <td>few clouds</td>\n",
       "      <td>Gallows Cove</td>\n",
       "    </tr>\n",
       "    <tr>\n",
       "      <th>1</th>\n",
       "      <td>8</td>\n",
       "      <td>Yar-Sale</td>\n",
       "      <td>RU</td>\n",
       "      <td>22.33</td>\n",
       "      <td>66.8333</td>\n",
       "      <td>70.8333</td>\n",
       "      <td>light snow</td>\n",
       "      <td>Yalemd</td>\n",
       "    </tr>\n",
       "    <tr>\n",
       "      <th>2</th>\n",
       "      <td>43</td>\n",
       "      <td>Svetlogorsk</td>\n",
       "      <td>BY</td>\n",
       "      <td>29.41</td>\n",
       "      <td>52.6333</td>\n",
       "      <td>29.7333</td>\n",
       "      <td>few clouds</td>\n",
       "      <td>Hotel Svetlogorsk JBIK</td>\n",
       "    </tr>\n",
       "    <tr>\n",
       "      <th>3</th>\n",
       "      <td>45</td>\n",
       "      <td>Vadso</td>\n",
       "      <td>NO</td>\n",
       "      <td>26.76</td>\n",
       "      <td>70.0744</td>\n",
       "      <td>29.7487</td>\n",
       "      <td>clear sky</td>\n",
       "      <td>Scandic Vadsø</td>\n",
       "    </tr>\n",
       "    <tr>\n",
       "      <th>4</th>\n",
       "      <td>70</td>\n",
       "      <td>Usinsk</td>\n",
       "      <td>RU</td>\n",
       "      <td>19.92</td>\n",
       "      <td>65.9939</td>\n",
       "      <td>57.5281</td>\n",
       "      <td>overcast clouds</td>\n",
       "      <td>Dobro Pozhalovaty</td>\n",
       "    </tr>\n",
       "  </tbody>\n",
       "</table>\n",
       "</div>"
      ],
      "text/plain": [
       "   City ID         City Country  Max Temp      Lat      Lng          Weather  \\\n",
       "0        2       Torbay      CA     23.58  47.6666 -52.7314       few clouds   \n",
       "1        8     Yar-Sale      RU     22.33  66.8333  70.8333       light snow   \n",
       "2       43  Svetlogorsk      BY     29.41  52.6333  29.7333       few clouds   \n",
       "3       45        Vadso      NO     26.76  70.0744  29.7487        clear sky   \n",
       "4       70       Usinsk      RU     19.92  65.9939  57.5281  overcast clouds   \n",
       "\n",
       "               Hotel Name  \n",
       "0            Gallows Cove  \n",
       "1                  Yalemd  \n",
       "2  Hotel Svetlogorsk JBIK  \n",
       "3           Scandic Vadsø  \n",
       "4       Dobro Pozhalovaty  "
      ]
     },
     "execution_count": 3,
     "metadata": {},
     "output_type": "execute_result"
    }
   ],
   "source": [
    "# 1. Read the WeatherPy_vacation.csv into a DataFrame.\n",
    "vacation_df = pd.read_csv(\"../Vacation_Search/WeatherPy_vacation.csv\")\n",
    "vacation_df.head()"
   ]
  },
  {
   "cell_type": "code",
   "execution_count": 5,
   "metadata": {},
   "outputs": [],
   "source": [
    "# 2. Using the template add the city name, the country code, the weather description and maximum temperature for the city.\n",
    "info_box_template = \"\"\"\n",
    "<dl>\n",
    "<dt>City Name</dt><dd>{City}</dd>\n",
    "<dt>Country</dt><dd>{Country}</dd>\n",
    "<dt>Weather</dt><dd>{Weather}</dd>\n",
    "<dt>Max Temp</dt><dd>{Max Temp} °F</dd>\n",
    "</dl>\n",
    "\"\"\"\n",
    "\n",
    "# 3a. Get the data from each row and add it to the formatting template and store the data in a list.\n",
    "vacation_info = [info_box_template.format(**row) for index, row in vacation_df.iterrows()]\n",
    "\n",
    "# 3b. Get the latitude and longitude from each row and store in a new DataFrame.\n",
    "locations = vacation_df[[\"Lat\", \"Lng\"]]"
   ]
  },
  {
   "cell_type": "code",
   "execution_count": 6,
   "metadata": {},
   "outputs": [
    {
     "data": {
      "application/vnd.jupyter.widget-view+json": {
       "model_id": "a08a3ba6f3664a898e2742da88a27eeb",
       "version_major": 2,
       "version_minor": 0
      },
      "text/plain": [
       "Figure(layout=FigureLayout(height='420px'))"
      ]
     },
     "metadata": {},
     "output_type": "display_data"
    }
   ],
   "source": [
    "# 4a. Add a marker layer for each city to the map.\n",
    "fig = gmaps.figure(center=(30.0, 31.0), zoom_level=1.5)\n",
    "marker_layer = gmaps.marker_layer(locations, info_box_content=vacation_info)\n",
    "fig.add_layer(marker_layer)\n",
    "\n",
    "# 4b. Display the figure\n",
    "fig"
   ]
  },
  {
   "cell_type": "code",
   "execution_count": 27,
   "metadata": {},
   "outputs": [],
   "source": [
    "# From the map above pick 4 cities and create a vacation itinerary route to travel between the four cities. \n",
    "# 5. Create DataFrames for each city by filtering the 'vacation_df' using the loc method. \n",
    "# Hint: The starting and ending city should be the same city.\n",
    "\n",
    "vacation_start = vacation_df.loc[vacation_df[\"City\"]== \"Idritsa\"]\n",
    "vacation_end = vacation_df.loc[vacation_df[\"City\"]== \"Idritsa\"]\n",
    "vacation_stop1 = vacation_df.loc[vacation_df[\"City\"]== \"Berezayka\"]\n",
    "vacation_stop2 = vacation_df.loc[vacation_df[\"City\"]== \"Marfino\"] \n",
    "vacation_stop3 = vacation_df.loc[vacation_df[\"City\"]== \"Vyazma\"] "
   ]
  },
  {
   "cell_type": "code",
   "execution_count": 38,
   "metadata": {},
   "outputs": [],
   "source": [
    "# 6. Get the latitude-longitude pairs as tuples from each city DataFrame using the to_numpy function and list indexing.\n",
    "import numpy as np\n",
    "\n",
    "start = vacation_start.to_numpy()\n",
    "stop1 = vacation_stop1.to_numpy() \n",
    "stop2 = vacation_stop2.to_numpy()\n",
    "stop3 = vacation_stop3.to_numpy()\n",
    "\n",
    "start_loc = (start[0][4], start[0][5])\n",
    "end_loc = (start[0][4], start[0][5])\n",
    "stop1_loc = (stop1[0][4], stop1[0][5])\n",
    "stop2_loc = (stop2[0][4], stop2[0][5])\n",
    "stop3_loc = (stop3[0][4], stop3[0][5])"
   ]
  },
  {
   "cell_type": "code",
   "execution_count": 39,
   "metadata": {
    "scrolled": true
   },
   "outputs": [
    {
     "data": {
      "application/vnd.jupyter.widget-view+json": {
       "model_id": "c9b62a4ccd2b4fe89883074c71650214",
       "version_major": 2,
       "version_minor": 0
      },
      "text/plain": [
       "Figure(layout=FigureLayout(height='420px'))"
      ]
     },
     "metadata": {},
     "output_type": "display_data"
    }
   ],
   "source": [
    "# 7. Create a direction layer map using the start and end latitude-longitude pairs,\n",
    "# and stop1, stop2, and stop3 as the waypoints. The travel_mode should be \"DRIVING\", \"BICYCLING\", or \"WALKING\".\n",
    "import gmaps.datasets\n",
    "\n",
    "fig = gmaps.figure()\n",
    "vacation_directions = gmaps.directions_layer(start_loc, end_loc, waypoints=[stop1_loc, stop2_loc, stop3_loc],\n",
    "                                            travel_mode='DRIVING')\n",
    "fig.add_layer(vacation_directions)\n",
    "fig"
   ]
  },
  {
   "cell_type": "code",
   "execution_count": 41,
   "metadata": {},
   "outputs": [
    {
     "data": {
      "text/html": [
       "<div>\n",
       "<style scoped>\n",
       "    .dataframe tbody tr th:only-of-type {\n",
       "        vertical-align: middle;\n",
       "    }\n",
       "\n",
       "    .dataframe tbody tr th {\n",
       "        vertical-align: top;\n",
       "    }\n",
       "\n",
       "    .dataframe thead th {\n",
       "        text-align: right;\n",
       "    }\n",
       "</style>\n",
       "<table border=\"1\" class=\"dataframe\">\n",
       "  <thead>\n",
       "    <tr style=\"text-align: right;\">\n",
       "      <th></th>\n",
       "      <th>City ID</th>\n",
       "      <th>City</th>\n",
       "      <th>Country</th>\n",
       "      <th>Max Temp</th>\n",
       "      <th>Lat</th>\n",
       "      <th>Lng</th>\n",
       "      <th>Weather</th>\n",
       "      <th>Hotel Name</th>\n",
       "    </tr>\n",
       "  </thead>\n",
       "  <tbody>\n",
       "    <tr>\n",
       "      <th>0</th>\n",
       "      <td>422</td>\n",
       "      <td>Idritsa</td>\n",
       "      <td>RU</td>\n",
       "      <td>27.12</td>\n",
       "      <td>56.3316</td>\n",
       "      <td>28.8988</td>\n",
       "      <td>clear sky</td>\n",
       "      <td>Yasnyy Les</td>\n",
       "    </tr>\n",
       "    <tr>\n",
       "      <th>1</th>\n",
       "      <td>682</td>\n",
       "      <td>Berezayka</td>\n",
       "      <td>RU</td>\n",
       "      <td>27.07</td>\n",
       "      <td>57.9883</td>\n",
       "      <td>33.9036</td>\n",
       "      <td>clear sky</td>\n",
       "      <td>Ineshevskiy Plyazh</td>\n",
       "    </tr>\n",
       "    <tr>\n",
       "      <th>2</th>\n",
       "      <td>653</td>\n",
       "      <td>Marfino</td>\n",
       "      <td>RU</td>\n",
       "      <td>26.85</td>\n",
       "      <td>55.7028</td>\n",
       "      <td>37.3822</td>\n",
       "      <td>clear sky</td>\n",
       "      <td>Nemchinovka-Park</td>\n",
       "    </tr>\n",
       "    <tr>\n",
       "      <th>3</th>\n",
       "      <td>606</td>\n",
       "      <td>Vyazma</td>\n",
       "      <td>RU</td>\n",
       "      <td>23.90</td>\n",
       "      <td>55.2104</td>\n",
       "      <td>34.2951</td>\n",
       "      <td>few clouds</td>\n",
       "      <td>«Континенталь» - гостинично-ресторанный комплекс</td>\n",
       "    </tr>\n",
       "    <tr>\n",
       "      <th>4</th>\n",
       "      <td>422</td>\n",
       "      <td>Idritsa</td>\n",
       "      <td>RU</td>\n",
       "      <td>27.12</td>\n",
       "      <td>56.3316</td>\n",
       "      <td>28.8988</td>\n",
       "      <td>clear sky</td>\n",
       "      <td>Yasnyy Les</td>\n",
       "    </tr>\n",
       "  </tbody>\n",
       "</table>\n",
       "</div>"
      ],
      "text/plain": [
       "   City ID       City Country  Max Temp      Lat      Lng     Weather  \\\n",
       "0      422    Idritsa      RU     27.12  56.3316  28.8988   clear sky   \n",
       "1      682  Berezayka      RU     27.07  57.9883  33.9036   clear sky   \n",
       "2      653    Marfino      RU     26.85  55.7028  37.3822   clear sky   \n",
       "3      606     Vyazma      RU     23.90  55.2104  34.2951  few clouds   \n",
       "4      422    Idritsa      RU     27.12  56.3316  28.8988   clear sky   \n",
       "\n",
       "                                         Hotel Name  \n",
       "0                                        Yasnyy Les  \n",
       "1                                Ineshevskiy Plyazh  \n",
       "2                                  Nemchinovka-Park  \n",
       "3  «Континенталь» - гостинично-ресторанный комплекс  \n",
       "4                                        Yasnyy Les  "
      ]
     },
     "execution_count": 41,
     "metadata": {},
     "output_type": "execute_result"
    }
   ],
   "source": [
    "# 8. To create a marker layer map between the four cities.\n",
    "#  Combine the four city DataFrames into one DataFrame using the concat() function.\n",
    "itinerary_df = pd.concat([vacation_start, vacation_stop1, vacation_stop2, vacation_stop3, vacation_end],\n",
    "                         ignore_index=True)\n",
    "itinerary_df"
   ]
  },
  {
   "cell_type": "code",
   "execution_count": 50,
   "metadata": {},
   "outputs": [],
   "source": [
    "# 9 Using the template add city name, the country code, the weather description and maximum temperature for the city. \n",
    "info_box_template = \"\"\"\n",
    "<dl>\n",
    "<dt>Hotel Name</dt><dd>{Hotel Name}</dd>\n",
    "<dt>City Name</dt><dd>{City}</dd>\n",
    "<dt>Country</dt><dd>{Country}</dd>\n",
    "<dt>Weather</dt><dd>{Weather}</dd>\n",
    "<dt>Max Temp</dt><dd>{Max Temp} °F</dd>\n",
    "</dl>\n",
    "\"\"\"\n",
    "\n",
    "# 10a Get the data from each row and add it to the formatting template and store the data in a list.\n",
    "travel_info = [info_box_template.format(**row) for index, row in itinerary_df.iterrows()]\n",
    "\n",
    "# 10b. Get the latitude and longitude from each row and store in a new DataFrame.\n",
    "travel_locations = itinerary_df[[\"Lat\", \"Lng\"]]"
   ]
  },
  {
   "cell_type": "code",
   "execution_count": 71,
   "metadata": {},
   "outputs": [
    {
     "data": {
      "application/vnd.jupyter.widget-view+json": {
       "model_id": "94d47ac5ff6a4a978d442416b06be08f",
       "version_major": 2,
       "version_minor": 0
      },
      "text/plain": [
       "Figure(layout=FigureLayout(height='420px'))"
      ]
     },
     "metadata": {},
     "output_type": "display_data"
    }
   ],
   "source": [
    "# 11a. Add a marker layer for each city to the map.\n",
    "fig = gmaps.figure(center=(58.0, 38.0), zoom_level=5.00)\n",
    "marker_layer = gmaps.marker_layer(travel_locations, info_box_content=travel_info)\n",
    "fig.add_layer(marker_layer)\n",
    "\n",
    "# 11b. Display the figure\n",
    "fig"
   ]
  },
  {
   "cell_type": "code",
   "execution_count": null,
   "metadata": {},
   "outputs": [],
   "source": []
  }
 ],
 "metadata": {
  "kernelspec": {
   "display_name": "PythonData",
   "language": "python",
   "name": "pythondata"
  },
  "language_info": {
   "codemirror_mode": {
    "name": "ipython",
    "version": 3
   },
   "file_extension": ".py",
   "mimetype": "text/x-python",
   "name": "python",
   "nbconvert_exporter": "python",
   "pygments_lexer": "ipython3",
   "version": "3.7.11"
  },
  "latex_envs": {
   "LaTeX_envs_menu_present": true,
   "autoclose": false,
   "autocomplete": true,
   "bibliofile": "biblio.bib",
   "cite_by": "apalike",
   "current_citInitial": 1,
   "eqLabelWithNumbers": true,
   "eqNumInitial": 1,
   "hotkeys": {
    "equation": "Ctrl-E",
    "itemize": "Ctrl-I"
   },
   "labels_anchors": false,
   "latex_user_defs": false,
   "report_style_numbering": false,
   "user_envs_cfg": false
  }
 },
 "nbformat": 4,
 "nbformat_minor": 2
}
